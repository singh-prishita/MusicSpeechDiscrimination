{
 "cells": [
  {
   "cell_type": "code",
   "execution_count": 18,
   "id": "27d2a7d8-81b4-4aff-a956-ebb608699f1a",
   "metadata": {},
   "outputs": [],
   "source": [
    "# Import generic libraries\n",
    "import pandas as pd\n",
    "import numpy as np\n",
    "import matplotlib.pyplot as plt\n",
    "import warnings\n",
    "import librosa\n",
    "import IPython.display as ipd\n",
    "warnings.filterwarnings(\"ignore\")"
   ]
  },
  {
   "cell_type": "code",
   "execution_count": 19,
   "id": "207657cb-ddc3-483f-b330-9cf303ab8db7",
   "metadata": {},
   "outputs": [
    {
     "data": {
      "text/html": [
       "<div>\n",
       "<style scoped>\n",
       "    .dataframe tbody tr th:only-of-type {\n",
       "        vertical-align: middle;\n",
       "    }\n",
       "\n",
       "    .dataframe tbody tr th {\n",
       "        vertical-align: top;\n",
       "    }\n",
       "\n",
       "    .dataframe thead th {\n",
       "        text-align: right;\n",
       "    }\n",
       "</style>\n",
       "<table border=\"1\" class=\"dataframe\">\n",
       "  <thead>\n",
       "    <tr style=\"text-align: right;\">\n",
       "      <th></th>\n",
       "      <th>zcrs</th>\n",
       "      <th>mfccs</th>\n",
       "      <th>chroma</th>\n",
       "      <th>rmse</th>\n",
       "      <th>spec_c</th>\n",
       "      <th>spec_b</th>\n",
       "      <th>rolloff</th>\n",
       "      <th>class_label</th>\n",
       "    </tr>\n",
       "  </thead>\n",
       "  <tbody>\n",
       "    <tr>\n",
       "      <th>0</th>\n",
       "      <td>0.150044</td>\n",
       "      <td>-8.459356</td>\n",
       "      <td>0.388125</td>\n",
       "      <td>0.037607</td>\n",
       "      <td>2612.358748</td>\n",
       "      <td>2139.577794</td>\n",
       "      <td>4620.238729</td>\n",
       "      <td>Human-Speech</td>\n",
       "    </tr>\n",
       "    <tr>\n",
       "      <th>1</th>\n",
       "      <td>0.123951</td>\n",
       "      <td>-7.779772</td>\n",
       "      <td>0.405367</td>\n",
       "      <td>0.054338</td>\n",
       "      <td>2159.300344</td>\n",
       "      <td>1991.255180</td>\n",
       "      <td>3995.042509</td>\n",
       "      <td>Human-Speech</td>\n",
       "    </tr>\n",
       "    <tr>\n",
       "      <th>2</th>\n",
       "      <td>0.071148</td>\n",
       "      <td>5.206492</td>\n",
       "      <td>0.567012</td>\n",
       "      <td>0.329862</td>\n",
       "      <td>2344.515069</td>\n",
       "      <td>2663.768393</td>\n",
       "      <td>5363.817566</td>\n",
       "      <td>Music</td>\n",
       "    </tr>\n",
       "    <tr>\n",
       "      <th>3</th>\n",
       "      <td>0.136798</td>\n",
       "      <td>1.928085</td>\n",
       "      <td>0.449995</td>\n",
       "      <td>0.272583</td>\n",
       "      <td>2985.277462</td>\n",
       "      <td>2790.678112</td>\n",
       "      <td>6261.262139</td>\n",
       "      <td>Music</td>\n",
       "    </tr>\n",
       "    <tr>\n",
       "      <th>4</th>\n",
       "      <td>0.126048</td>\n",
       "      <td>-7.293183</td>\n",
       "      <td>0.392444</td>\n",
       "      <td>0.077955</td>\n",
       "      <td>2331.708888</td>\n",
       "      <td>1989.404083</td>\n",
       "      <td>4185.341358</td>\n",
       "      <td>Human-Speech</td>\n",
       "    </tr>\n",
       "  </tbody>\n",
       "</table>\n",
       "</div>"
      ],
      "text/plain": [
       "       zcrs     mfccs    chroma      rmse       spec_c       spec_b  \\\n",
       "0  0.150044 -8.459356  0.388125  0.037607  2612.358748  2139.577794   \n",
       "1  0.123951 -7.779772  0.405367  0.054338  2159.300344  1991.255180   \n",
       "2  0.071148  5.206492  0.567012  0.329862  2344.515069  2663.768393   \n",
       "3  0.136798  1.928085  0.449995  0.272583  2985.277462  2790.678112   \n",
       "4  0.126048 -7.293183  0.392444  0.077955  2331.708888  1989.404083   \n",
       "\n",
       "       rolloff   class_label  \n",
       "0  4620.238729  Human-Speech  \n",
       "1  3995.042509  Human-Speech  \n",
       "2  5363.817566         Music  \n",
       "3  6261.262139         Music  \n",
       "4  4185.341358  Human-Speech  "
      ]
     },
     "execution_count": 19,
     "metadata": {},
     "output_type": "execute_result"
    }
   ],
   "source": [
    "data = pd.read_csv('music.csv')\n",
    "data.head()"
   ]
  },
  {
   "cell_type": "code",
   "execution_count": 69,
   "id": "d645d7ad-0285-4383-8520-523ff649a459",
   "metadata": {},
   "outputs": [
    {
     "name": "stdout",
     "output_type": "stream",
     "text": [
      "       zcrs     mfccs    chroma      rmse    spec_c    spec_b   rolloff\n",
      "0  4.075915  0.668946  0.119145  0.169828 -0.500708 -0.834334 -0.503517\n",
      "1  3.101963  0.671816  0.268287  0.263669 -0.500799 -0.834388 -0.503544\n",
      "2  1.131037  0.726653  1.666529  1.808955 -0.500762 -0.834145 -0.503485\n",
      "3  3.581505  0.712809  0.654326  1.487702 -0.500634 -0.834099 -0.503446\n",
      "4  3.180227  0.673870  0.156504  0.396122 -0.500764 -0.834389 -0.503536\n"
     ]
    }
   ],
   "source": [
    "from sklearn.preprocessing import StandardScaler,MinMaxScaler\n",
    "scaler = MinMaxScaler()\n",
    "X = scaler.fit_transform(np.array(data.iloc[:, :-1], dtype = float))\n",
    "X = scaler.transform(X)\n",
    "featuresdf = pd.DataFrame(X, columns=['zcrs','mfccs','chroma','rmse','spec_c',\n",
    "                                             'spec_b','rolloff'])\n",
    "print(featuresdf.head())"
   ]
  },
  {
   "cell_type": "code",
   "execution_count": 145,
   "id": "2490dc9d-1cfb-48f7-9d84-d294d9ee6121",
   "metadata": {
    "tags": []
   },
   "outputs": [
    {
     "name": "stdout",
     "output_type": "stream",
     "text": [
      "Accuracy: 0.8372093023255814\n"
     ]
    }
   ],
   "source": [
    "from sklearn.model_selection import train_test_split\n",
    "\n",
    "X1=data.iloc[:,-5]\n",
    "X2=data.iloc[:,-6]\n",
    "X = np.column_stack((X1,X2))\n",
    "y = data.iloc[:,-1]\n",
    "X_train, X_test, y_train, y_test = train_test_split(X, y, test_size=0.2)\n",
    "\n",
    "from sklearn.naive_bayes import GaussianNB\n",
    "model_RMSE_Chroma = GaussianNB()\n",
    "model_RMSE_Chroma.fit(X_train,y_train)\n",
    "predicted= model_RMSE_Chroma.predict(X_test)\n",
    "from sklearn import metrics\n",
    "print(\"Accuracy:\",metrics.accuracy_score(y_test, predicted))"
   ]
  },
  {
   "cell_type": "code",
   "execution_count": 151,
   "id": "df93d509-e731-4945-ade9-e1afebbcbdad",
   "metadata": {},
   "outputs": [
    {
     "name": "stdout",
     "output_type": "stream",
     "text": [
      "Accuracy: 0.5581395348837209\n"
     ]
    }
   ],
   "source": [
    "from sklearn.model_selection import train_test_split\n",
    "from sklearn.preprocessing import StandardScaler,MinMaxScaler\n",
    "\n",
    "X1=data.iloc[:,-3]\n",
    "X2=data.iloc[:,-4]\n",
    "X = np.column_stack((X1,X2))\n",
    "y = data.iloc[:,-1]\n",
    "X_train, X_test, y_train, y_test = train_test_split(X, y, test_size=0.2)\n",
    "\n",
    "from sklearn.naive_bayes import GaussianNB\n",
    "model_SPECB_SPECC = GaussianNB()\n",
    "model_SPECB_SPECC.fit(X_train,y_train)\n",
    "predicted= model_SPECB_SPECC.predict(X_test)\n",
    "from sklearn import metrics\n",
    "print(\"Accuracy:\",metrics.accuracy_score(y_test, predicted))"
   ]
  },
  {
   "cell_type": "code",
   "execution_count": 153,
   "id": "6788415f-85aa-4131-b236-9bc713fb8348",
   "metadata": {},
   "outputs": [
    {
     "name": "stdout",
     "output_type": "stream",
     "text": [
      "164    0\n",
      "25     1\n",
      "206    0\n",
      "55     1\n",
      "39     1\n",
      "88     1\n",
      "179    0\n",
      "120    0\n",
      "134    0\n",
      "116    1\n",
      "76     1\n",
      "71     1\n",
      "117    0\n",
      "201    0\n",
      "38     1\n",
      "112    1\n",
      "154    0\n",
      "26     1\n",
      "156    0\n",
      "48     1\n",
      "213    0\n",
      "109    1\n",
      "204    0\n",
      "139    0\n",
      "104    1\n",
      "57     1\n",
      "193    0\n",
      "4      1\n",
      "42     1\n",
      "210    0\n",
      "107    1\n",
      "9      0\n",
      "177    0\n",
      "94     1\n",
      "113    1\n",
      "47     1\n",
      "80     1\n",
      "207    0\n",
      "148    0\n",
      "202    0\n",
      "187    0\n",
      "64     1\n",
      "78     1\n",
      "Name: class_label, dtype: int64\n",
      "[1. 1. 1. 1. 1. 1. 1. 1. 1. 1. 1. 1. 1. 1. 1. 1. 1. 1. 1. 1. 1. 1. 1. 1.\n",
      " 1. 1. 1. 1. 1. 1. 1. 1. 1. 1. 1. 1. 1. 1. 1. 1. 1. 1. 1.]\n"
     ]
    },
    {
     "ename": "ValueError",
     "evalue": "Found input variables with inconsistent numbers of samples: [43, 129]",
     "output_type": "error",
     "traceback": [
      "\u001b[0;31m---------------------------------------------------------------------------\u001b[0m",
      "\u001b[0;31mValueError\u001b[0m                                Traceback (most recent call last)",
      "Input \u001b[0;32mIn [153]\u001b[0m, in \u001b[0;36m<cell line: 22>\u001b[0;34m()\u001b[0m\n\u001b[1;32m     20\u001b[0m \u001b[38;5;28mprint\u001b[39m(y_test)\n\u001b[1;32m     21\u001b[0m \u001b[38;5;28mprint\u001b[39m(Y_gnb_score1[:,\u001b[38;5;241m1\u001b[39m])\n\u001b[0;32m---> 22\u001b[0m fpr1, tpr1, _ \u001b[38;5;241m=\u001b[39m \u001b[43mroc_curve\u001b[49m\u001b[43m(\u001b[49m\u001b[43my_test\u001b[49m\u001b[43m,\u001b[49m\u001b[43m \u001b[49m\u001b[43mf\u001b[49m\u001b[43m,\u001b[49m\u001b[43m \u001b[49m\u001b[43mpos_label\u001b[49m\u001b[38;5;241;43m=\u001b[39;49m\u001b[38;5;241;43m0\u001b[39;49m\u001b[43m)\u001b[49m\n\u001b[1;32m     23\u001b[0m roc_auc1 \u001b[38;5;241m=\u001b[39m auc(fpr1,tpr1)\n\u001b[1;32m     24\u001b[0m plt\u001b[38;5;241m.\u001b[39mplot( fpr1, tpr1, label\u001b[38;5;241m=\u001b[39m\u001b[38;5;124m'\u001b[39m\u001b[38;5;124mROC curve (RMSE_Chroma) (area = \u001b[39m\u001b[38;5;132;01m%0.2f\u001b[39;00m\u001b[38;5;124m)\u001b[39m\u001b[38;5;124m'\u001b[39m \u001b[38;5;241m%\u001b[39m roc_auc1)\n",
      "File \u001b[0;32m~/opt/anaconda3/lib/python3.9/site-packages/sklearn/metrics/_ranking.py:962\u001b[0m, in \u001b[0;36mroc_curve\u001b[0;34m(y_true, y_score, pos_label, sample_weight, drop_intermediate)\u001b[0m\n\u001b[1;32m    873\u001b[0m \u001b[38;5;28;01mdef\u001b[39;00m \u001b[38;5;21mroc_curve\u001b[39m(\n\u001b[1;32m    874\u001b[0m     y_true, y_score, \u001b[38;5;241m*\u001b[39m, pos_label\u001b[38;5;241m=\u001b[39m\u001b[38;5;28;01mNone\u001b[39;00m, sample_weight\u001b[38;5;241m=\u001b[39m\u001b[38;5;28;01mNone\u001b[39;00m, drop_intermediate\u001b[38;5;241m=\u001b[39m\u001b[38;5;28;01mTrue\u001b[39;00m\n\u001b[1;32m    875\u001b[0m ):\n\u001b[1;32m    876\u001b[0m     \u001b[38;5;124;03m\"\"\"Compute Receiver operating characteristic (ROC).\u001b[39;00m\n\u001b[1;32m    877\u001b[0m \n\u001b[1;32m    878\u001b[0m \u001b[38;5;124;03m    Note: this implementation is restricted to the binary classification task.\u001b[39;00m\n\u001b[0;32m   (...)\u001b[0m\n\u001b[1;32m    960\u001b[0m \n\u001b[1;32m    961\u001b[0m \u001b[38;5;124;03m    \"\"\"\u001b[39;00m\n\u001b[0;32m--> 962\u001b[0m     fps, tps, thresholds \u001b[38;5;241m=\u001b[39m \u001b[43m_binary_clf_curve\u001b[49m\u001b[43m(\u001b[49m\n\u001b[1;32m    963\u001b[0m \u001b[43m        \u001b[49m\u001b[43my_true\u001b[49m\u001b[43m,\u001b[49m\u001b[43m \u001b[49m\u001b[43my_score\u001b[49m\u001b[43m,\u001b[49m\u001b[43m \u001b[49m\u001b[43mpos_label\u001b[49m\u001b[38;5;241;43m=\u001b[39;49m\u001b[43mpos_label\u001b[49m\u001b[43m,\u001b[49m\u001b[43m \u001b[49m\u001b[43msample_weight\u001b[49m\u001b[38;5;241;43m=\u001b[39;49m\u001b[43msample_weight\u001b[49m\n\u001b[1;32m    964\u001b[0m \u001b[43m    \u001b[49m\u001b[43m)\u001b[49m\n\u001b[1;32m    966\u001b[0m     \u001b[38;5;66;03m# Attempt to drop thresholds corresponding to points in between and\u001b[39;00m\n\u001b[1;32m    967\u001b[0m     \u001b[38;5;66;03m# collinear with other points. These are always suboptimal and do not\u001b[39;00m\n\u001b[1;32m    968\u001b[0m     \u001b[38;5;66;03m# appear on a plotted ROC curve (and thus do not affect the AUC).\u001b[39;00m\n\u001b[0;32m   (...)\u001b[0m\n\u001b[1;32m    973\u001b[0m     \u001b[38;5;66;03m# but does not drop more complicated cases like fps = [1, 3, 7],\u001b[39;00m\n\u001b[1;32m    974\u001b[0m     \u001b[38;5;66;03m# tps = [1, 2, 4]; there is no harm in keeping too many thresholds.\u001b[39;00m\n\u001b[1;32m    975\u001b[0m     \u001b[38;5;28;01mif\u001b[39;00m drop_intermediate \u001b[38;5;129;01mand\u001b[39;00m \u001b[38;5;28mlen\u001b[39m(fps) \u001b[38;5;241m>\u001b[39m \u001b[38;5;241m2\u001b[39m:\n",
      "File \u001b[0;32m~/opt/anaconda3/lib/python3.9/site-packages/sklearn/metrics/_ranking.py:733\u001b[0m, in \u001b[0;36m_binary_clf_curve\u001b[0;34m(y_true, y_score, pos_label, sample_weight)\u001b[0m\n\u001b[1;32m    730\u001b[0m \u001b[38;5;28;01mif\u001b[39;00m \u001b[38;5;129;01mnot\u001b[39;00m (y_type \u001b[38;5;241m==\u001b[39m \u001b[38;5;124m\"\u001b[39m\u001b[38;5;124mbinary\u001b[39m\u001b[38;5;124m\"\u001b[39m \u001b[38;5;129;01mor\u001b[39;00m (y_type \u001b[38;5;241m==\u001b[39m \u001b[38;5;124m\"\u001b[39m\u001b[38;5;124mmulticlass\u001b[39m\u001b[38;5;124m\"\u001b[39m \u001b[38;5;129;01mand\u001b[39;00m pos_label \u001b[38;5;129;01mis\u001b[39;00m \u001b[38;5;129;01mnot\u001b[39;00m \u001b[38;5;28;01mNone\u001b[39;00m)):\n\u001b[1;32m    731\u001b[0m     \u001b[38;5;28;01mraise\u001b[39;00m \u001b[38;5;167;01mValueError\u001b[39;00m(\u001b[38;5;124m\"\u001b[39m\u001b[38;5;132;01m{0}\u001b[39;00m\u001b[38;5;124m format is not supported\u001b[39m\u001b[38;5;124m\"\u001b[39m\u001b[38;5;241m.\u001b[39mformat(y_type))\n\u001b[0;32m--> 733\u001b[0m \u001b[43mcheck_consistent_length\u001b[49m\u001b[43m(\u001b[49m\u001b[43my_true\u001b[49m\u001b[43m,\u001b[49m\u001b[43m \u001b[49m\u001b[43my_score\u001b[49m\u001b[43m,\u001b[49m\u001b[43m \u001b[49m\u001b[43msample_weight\u001b[49m\u001b[43m)\u001b[49m\n\u001b[1;32m    734\u001b[0m y_true \u001b[38;5;241m=\u001b[39m column_or_1d(y_true)\n\u001b[1;32m    735\u001b[0m y_score \u001b[38;5;241m=\u001b[39m column_or_1d(y_score)\n",
      "File \u001b[0;32m~/opt/anaconda3/lib/python3.9/site-packages/sklearn/utils/validation.py:332\u001b[0m, in \u001b[0;36mcheck_consistent_length\u001b[0;34m(*arrays)\u001b[0m\n\u001b[1;32m    330\u001b[0m uniques \u001b[38;5;241m=\u001b[39m np\u001b[38;5;241m.\u001b[39munique(lengths)\n\u001b[1;32m    331\u001b[0m \u001b[38;5;28;01mif\u001b[39;00m \u001b[38;5;28mlen\u001b[39m(uniques) \u001b[38;5;241m>\u001b[39m \u001b[38;5;241m1\u001b[39m:\n\u001b[0;32m--> 332\u001b[0m     \u001b[38;5;28;01mraise\u001b[39;00m \u001b[38;5;167;01mValueError\u001b[39;00m(\n\u001b[1;32m    333\u001b[0m         \u001b[38;5;124m\"\u001b[39m\u001b[38;5;124mFound input variables with inconsistent numbers of samples: \u001b[39m\u001b[38;5;132;01m%r\u001b[39;00m\u001b[38;5;124m\"\u001b[39m\n\u001b[1;32m    334\u001b[0m         \u001b[38;5;241m%\u001b[39m [\u001b[38;5;28mint\u001b[39m(l) \u001b[38;5;28;01mfor\u001b[39;00m l \u001b[38;5;129;01min\u001b[39;00m lengths]\n\u001b[1;32m    335\u001b[0m     )\n",
      "\u001b[0;31mValueError\u001b[0m: Found input variables with inconsistent numbers of samples: [43, 129]"
     ]
    },
    {
     "data": {
      "image/png": "[encoded data removed]",
      "text/plain": [
       "<Figure size 432x288 with 1 Axes>"
      ]
     },
     "metadata": {
      "needs_background": "light"
     },
     "output_type": "display_data"
    }
   ],
   "source": [
    "from sklearn.metrics import classification_report, roc_auc_score, roc_curve, auc\n",
    "\n",
    "# y_test = y_test.map({'Human-Speech': 1, 'Music': 0}).astype(int)\n",
    "\n",
    "\n",
    "ns_probs = [0 for _ in range(len(y_test))]\n",
    "ns_auc = roc_auc_score(y_test, ns_probs)\n",
    "ns_fpr, ns_tpr, _ = roc_curve(y_test, ns_probs, pos_label=1)\n",
    "plt.plot(ns_fpr, ns_tpr, linestyle='--', label='No Skill')\n",
    "\n",
    "# GNB ROC RMSE_CHROMA.\n",
    "\n",
    "# f1 = []\n",
    "# for i in Y_gnb_score1[:, 1]:\n",
    "#     if i>0.5:\n",
    "#         f.append(1)\n",
    "#     else:\n",
    "#         f.append(0)\n",
    "Y_gnb_score1 = model_RMSE_Chroma.predict_proba(X_test)\n",
    "print(y_test)\n",
    "print(Y_gnb_score1[:,1])\n",
    "fpr1, tpr1, _ = roc_curve(y_test, f, pos_label=0)\n",
    "roc_auc1 = auc(fpr1,tpr1)\n",
    "plt.plot( fpr1, tpr1, label='ROC curve (RMSE_Chroma) (area = %0.2f)' % roc_auc1)\n",
    "\n",
    "# GNB ROC SPECB_SPECC.\n",
    "Y_gnb_score2 = model_SPECB_SPECC.predict_proba(X_test)\n",
    "fpr2, tpr2, _ = roc_curve(y_test, Y_gnb_score2[:,1],pos_label=0)\n",
    "roc_auc2 = auc(fpr2, tpr2)\n",
    "plt.plot( fpr2, tpr2, label='ROC curve (SPECB_SPECC) (area = %0.2f)' % roc_auc2)\n",
    "\n",
    "plt.legend()"
   ]
  },
  {
   "cell_type": "code",
   "execution_count": null,
   "id": "a8285b41-ec87-4598-baa4-c935a2be007b",
   "metadata": {},
   "outputs": [],
   "source": [
    "Y_gnb_score1[:, 1]"
   ]
  }
 ],
 "metadata": {
  "kernelspec": {
   "display_name": "Python 3 (ipykernel)",
   "language": "python",
   "name": "python3"
  },
  "language_info": {
   "codemirror_mode": {
    "name": "ipython",
    "version": 3
   },
   "file_extension": ".py",
   "mimetype": "text/x-python",
   "name": "python",
   "nbconvert_exporter": "python",
   "pygments_lexer": "ipython3",
   "version": "3.9.12"
  }
 },
 "nbformat": 4,
 "nbformat_minor": 5
}
